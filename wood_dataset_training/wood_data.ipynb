{
  "nbformat": 4,
  "nbformat_minor": 0,
  "metadata": {
    "colab": {
      "provenance": [],
      "authorship_tag": "ABX9TyN9ajht20gvwqPgFaSRRBrU",
      "include_colab_link": true
    },
    "kernelspec": {
      "name": "python3",
      "display_name": "Python 3"
    },
    "language_info": {
      "name": "python"
    }
  },
  "cells": [
    {
      "cell_type": "markdown",
      "metadata": {
        "id": "view-in-github",
        "colab_type": "text"
      },
      "source": [
        "<a href=\"https://colab.research.google.com/github/fooodforrhino/wood_id/blob/main/wood_dataset_training/wood_data.ipynb\" target=\"_parent\"><img src=\"https://colab.research.google.com/assets/colab-badge.svg\" alt=\"Open In Colab\"/></a>"
      ]
    },
    {
      "cell_type": "markdown",
      "source": [
        "### Import necessary pakages"
      ],
      "metadata": {
        "id": "L3J8somji-fY"
      }
    },
    {
      "cell_type": "code",
      "execution_count": 1,
      "metadata": {
        "id": "8s_4N8m5gpxo"
      },
      "outputs": [],
      "source": [
        "from matplotlib import pyplot as plt\n",
        "import pandas as pd\n",
        "import seaborn as sns"
      ]
    },
    {
      "cell_type": "markdown",
      "source": [
        "### Connect with kaggle using api key"
      ],
      "metadata": {
        "id": "v802AR2Pi5Go"
      }
    },
    {
      "cell_type": "code",
      "source": [
        "! pip install -q kaggle\n",
        "! mkdir ~/.kaggle\n",
        "! cp kaggle.json ~/.kaggle/\n",
        "! chmod 600 ~/.kaggle/kaggle.json\n",
        "! kaggle datasets list"
      ],
      "metadata": {
        "colab": {
          "base_uri": "https://localhost:8080/"
        },
        "id": "mP5UJa15gwK_",
        "outputId": "3391a8eb-120c-465b-bc1b-fed337ab7008"
      },
      "execution_count": 4,
      "outputs": [
        {
          "output_type": "stream",
          "name": "stdout",
          "text": [
            "Warning: Looks like you're using an outdated API Version, please consider updating (server 1.6.3 / client 1.5.16)\n",
            "ref                                                       title                                      size  lastUpdated          downloadCount  voteCount  usabilityRating  \n",
            "--------------------------------------------------------  ----------------------------------------  -----  -------------------  -------------  ---------  ---------------  \n",
            "sahilwagh/gold-stock-prices                               Gold Stock Prices                          46KB  2024-01-22 06:54:32           1272         28  1.0              \n",
            "hummaamqaasim/jobs-in-data                                Jobs and Salaries in Data Science          76KB  2023-12-25 20:03:32           9426        189  1.0              \n",
            "nelgiriyewithana/apple-quality                            Apple Quality                             170KB  2024-01-11 14:31:07           3129         75  1.0              \n",
            "tanishqdublish/world-data-population                      World data population                      14KB  2024-01-12 18:22:20           1163         35  1.0              \n",
            "thedrcat/daigt-v4-train-dataset                           DAIGT-V4-TRAIN-DATASET                     49MB  2024-01-15 23:22:03            306         68  1.0              \n",
            "nelgiriyewithana/new-york-housing-market                  New York Housing Market                   271KB  2024-01-06 16:41:00           3338         88  1.0              \n",
            "thedrcat/daigt-v2-train-dataset                           DAIGT V2 Train Dataset                     29MB  2023-11-16 01:38:36           4693        350  1.0              \n",
            "huzdaria/laptop-pricing                                   Laptop Pricing                              3KB  2024-01-16 15:28:48            949         27  0.8235294        \n",
            "sazidthe1/data-science-salaries                           Data Science Salaries 2024                 57KB  2024-01-20 16:45:27           1124         31  1.0              \n",
            "mrsimple07/laptoppriceprediction                          Laptop Price Prediction                    39KB  2024-01-21 11:06:58            957         31  1.0              \n",
            "computingvictor/counter-strike-2-statistics               🔫 Counter Strike 2 Statistics 🔫             3KB  2024-01-19 16:52:49            371         30  1.0              \n",
            "michau96/social-media-popularity-2009-2023                Social media popularity (2009 - 2023)       5KB  2024-01-16 16:45:09           1211         29  1.0              \n",
            "ayushkhaire/the-tom-jerry-dataset-youtube                 The-tom-jerry-dataset-YOUTUBE             166KB  2024-01-13 08:41:00            584         36  1.0              \n",
            "mrsimple07/student-exam-performance-prediction            Student Exam Performance Prediction        10KB  2024-01-14 12:02:45           1600         44  1.0              \n",
            "missionjee/car-sales-report                               Car Sales Report                          657KB  2024-01-20 20:11:42            732         29  1.0              \n",
            "thedrcat/daigt-v3-train-dataset                           daigt-v3-train-dataset                     83MB  2023-12-28 04:36:42            543         89  1.0              \n",
            "mrsimple07/restaurants-revenue-prediction                 Restaurants Revenue Prediction             42KB  2024-01-17 13:43:00           1057         35  1.0              \n",
            "dansbecker/melbourne-housing-snapshot                     Melbourne Housing Snapshot                451KB  2018-06-05 12:52:24         136262       1417  0.7058824        \n",
            "joebeachcapital/differentiated-thyroid-cancer-recurrence  Differentiated Thyroid Cancer Recurrence    3KB  2024-01-19 03:10:29            429         30  1.0              \n",
            "starblasters8/human-vs-llm-text-corpus                    Human vs. LLM Text Corpus                   2GB  2024-01-10 18:09:13            361         71  1.0              \n"
          ]
        }
      ]
    },
    {
      "cell_type": "code",
      "source": [
        "! kaggle competitions download -c 'wooden-lumber'"
      ],
      "metadata": {
        "colab": {
          "base_uri": "https://localhost:8080/"
        },
        "id": "jNavPeVLjRwI",
        "outputId": "bc8c1f2d-b431-4fe6-b5da-7b2cd85359de"
      },
      "execution_count": 5,
      "outputs": [
        {
          "output_type": "stream",
          "name": "stdout",
          "text": [
            "403 - Forbidden - Permission 'competitions.participate' was denied\n"
          ]
        }
      ]
    }
  ]
}
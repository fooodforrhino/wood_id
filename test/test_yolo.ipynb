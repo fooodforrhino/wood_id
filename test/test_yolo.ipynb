<a target="_blank" href="https://colab.research.google.com/github/fooodforrhino/wood_id/edit/main/test/test_yolo.ipynb">
  <img src="https://colab.research.google.com/assets/colab-badge.svg" alt="Open In Colab"/>
</a>
